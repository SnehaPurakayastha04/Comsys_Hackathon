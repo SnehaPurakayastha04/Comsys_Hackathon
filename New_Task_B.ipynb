{
  "cells": [
    {
      "cell_type": "code",
      "source": [
        "from google.colab import drive\n",
        "drive.mount('/content/drive')\n"
      ],
      "metadata": {
        "colab": {
          "base_uri": "https://localhost:8080/"
        },
        "id": "RlWNCBPkT1-b",
        "outputId": "0a1e68ee-7508-4a4b-db86-db7aa3322dfe"
      },
      "execution_count": 2,
      "outputs": [
        {
          "output_type": "stream",
          "name": "stdout",
          "text": [
            "Mounted at /content/drive\n"
          ]
        }
      ]
    },
    {
      "cell_type": "code",
      "source": [
        "# Installing the necessary libraries\n",
        "!pip install torch torchvision facenet-pytorch scikit-learn matplotlib pandas --quiet\n",
        "# Importing libraries\n",
        "import os\n",
        "import torch\n",
        "import numpy as np\n",
        "import pandas as pd\n",
        "from PIL import Image, ImageEnhance\n",
        "from tqdm import tqdm\n",
        "from sklearn.metrics.pairwise import cosine_similarity\n",
        "from sklearn.metrics import accuracy_score, precision_score, recall_score, f1_score\n",
        "from facenet_pytorch import InceptionResnetV1, MTCNN\n",
        "from torchvision import transforms\n",
        "import random\n",
        "# Loading the pretrained FaceNet model and MTCNN face detector\n",
        "device = torch.device('cuda' if torch.cuda.is_available() else 'cpu')\n",
        "model = InceptionResnetV1(pretrained='vggface2').eval().to(device)\n",
        "mtcnn = MTCNN(image_size=160, margin=10, device=device)\n",
        "# Preprocessing pipeline for consistency\n",
        "transform = transforms.Compose([\n",
        "    transforms.Resize((160, 160)),\n",
        "    transforms.ToTensor(),\n",
        "    transforms.Normalize([0.5], [0.5])\n",
        "])\n",
        "SIMILARITY_THRESHOLD = 0.75  # Set threshold\n",
        "\n",
        "# Function: Generating embedding from original + augmented variants\n",
        "# Augmentations: brightness, contrast, horizontal flip\n",
        "@torch.no_grad()\n",
        "def get_augmented_embeddings(img_path, n_augments=3):\n",
        "    img = Image.open(img_path).convert('RGB')\n",
        "    aligned = mtcnn(img)\n",
        "    if aligned is None:\n",
        "        return None\n",
        "\n",
        "    variants = [aligned.cpu()]\n",
        "    for _ in range(n_augments):\n",
        "        aug_img = img.copy()\n",
        "        aug_img = ImageEnhance.Brightness(aug_img).enhance(np.random.uniform(0.8, 1.2))\n",
        "        aug_img = ImageEnhance.Contrast(aug_img).enhance(np.random.uniform(0.8, 1.2))\n",
        "        if np.random.rand() > 0.5:\n",
        "            aug_img = aug_img.transpose(Image.FLIP_LEFT_RIGHT)\n",
        "        aligned_aug = mtcnn(aug_img)\n",
        "        if aligned_aug is not None:\n",
        "            variants.append(aligned_aug.cpu())\n",
        "\n",
        "    embeddings = []\n",
        "    for v in variants:\n",
        "        v = v.unsqueeze(0).to(device)\n",
        "        emb = model(v).cpu().detach().numpy().flatten()\n",
        "        embeddings.append(emb)\n",
        "\n",
        "    return np.mean(embeddings, axis=0)\n",
        "# Function: Verify all faces in a folder (positive + negative pairs)\n",
        "# - Extract reference embedding\n",
        "# - Compare with distorted images (same identity → label 1)\n",
        "# - Optionally compare with other identities (negatives → label 0)\n",
        "# - Save all results to a CSV\n",
        "def verify_from_folder(folder_path, save_csv_path, use_negatives=False, negatives_per_sample=3):\n",
        "    results = []\n",
        "    person_list = os.listdir(folder_path)\n",
        "\n",
        "    for person_id in tqdm(person_list, desc=f\"Processing {folder_path}\"):\n",
        "        person_dir = os.path.join(folder_path, person_id)\n",
        "        ref_img_path = os.path.join(person_dir, f\"{person_id}.jpg\")\n",
        "        distortion_folder = os.path.join(person_dir, \"distortion\")\n",
        "\n",
        "        if not os.path.exists(ref_img_path) or not os.path.isdir(distortion_folder):\n",
        "            continue\n",
        "\n",
        "        ref_embedding = get_augmented_embeddings(ref_img_path)\n",
        "        if ref_embedding is None:\n",
        "            continue\n",
        "\n",
        "        for distorted_img_name in os.listdir(distortion_folder):\n",
        "            distorted_img_path = os.path.join(distortion_folder, distorted_img_name)\n",
        "            distorted_embedding = get_augmented_embeddings(distorted_img_path)\n",
        "            if distorted_embedding is None:\n",
        "                continue\n",
        "\n",
        "            similarity = cosine_similarity([ref_embedding], [distorted_embedding])[0][0]\n",
        "            results.append({\n",
        "                'person_id': person_id,\n",
        "                'distorted_img': distorted_img_name,\n",
        "                'reference_id': person_id,\n",
        "                'similarity': similarity,\n",
        "                'label': 1\n",
        "            })\n",
        "\n",
        "            if use_negatives:\n",
        "                other_people = [p for p in person_list if p != person_id]\n",
        "                random.shuffle(other_people)\n",
        "                for neg_id in other_people[:negatives_per_sample]:\n",
        "                    neg_ref_path = os.path.join(folder_path, neg_id, f\"{neg_id}.jpg\")\n",
        "                    if os.path.exists(neg_ref_path):\n",
        "                        neg_embedding = get_augmented_embeddings(neg_ref_path)\n",
        "                        if neg_embedding is not None:\n",
        "                            sim_neg = cosine_similarity([neg_embedding], [distorted_embedding])[0][0]\n",
        "                            results.append({\n",
        "                                'person_id': person_id,\n",
        "                                'distorted_img': distorted_img_name,\n",
        "                                'reference_id': neg_id,\n",
        "                                'similarity': sim_neg,\n",
        "                                'label': 0\n",
        "                            })\n",
        "\n",
        "    df = pd.DataFrame(results)\n",
        "    df.to_csv(save_csv_path, index=False)\n",
        "    print(f\"Saved results to {save_csv_path}\")\n",
        "    return df\n",
        "# Paths to training and validation folders\n",
        "train_dir = '/content/drive/MyDrive/Comys_Hackathon52/Task_B/train'\n",
        "val_dir = '/content/drive/MyDrive/Comys_Hackathon52/Task_B/val'\n",
        "# Generating embeddings and pairwise similarity scores\n",
        "df_train = verify_from_folder(train_dir, '/content/train_verification_results.csv', use_negatives=True)\n",
        "df_val = verify_from_folder(val_dir, '/content/val_verification_results.csv', use_negatives=True)\n",
        "# Hyperparameter tuning: Find best similarity threshold based on F1-score\n",
        "y_true = df_val['label'].tolist()\n",
        "best_thresh = 0.5\n",
        "best_f1 = 0\n",
        "\n",
        "for thresh in np.arange(0.3, 0.8, 0.01):\n",
        "    preds = [1 if s >= thresh else 0 for s in df_val['similarity']]\n",
        "    f1 = f1_score(y_true, preds)\n",
        "    if f1 > best_f1:\n",
        "        best_f1 = f1\n",
        "        best_thresh = thresh\n",
        "\n",
        "print(f\"\\n Best Threshold: {best_thresh:.2f} → F1: {best_f1:.4f}\")\n",
        "\n",
        "# Final evaluation on validation set using best threshold\n",
        "y_pred = [1 if s >= best_thresh else 0 for s in df_val['similarity']]\n",
        "acc = accuracy_score(y_true, y_pred)\n",
        "prec = precision_score(y_true, y_pred)\n",
        "rec = recall_score(y_true, y_pred)\n",
        "f1 = f1_score(y_true, y_pred)\n",
        "\n",
        "print(\"\\n Evaluation on Validation Set:\")\n",
        "print(f\"Accuracy : {acc:.4f}\")\n",
        "print(f\"Precision: {prec:.4f}\")\n",
        "print(f\"Recall   : {rec:.4f}\")\n",
        "print(f\"F1-Score : {f1:.4f}\")"
      ],
      "metadata": {
        "id": "k04WSAXpRgAy",
        "colab": {
          "base_uri": "https://localhost:8080/",
          "height": 486,
          "referenced_widgets": [
            "e9f7c7bf59c2451ca8f86c3ae0aee2db",
            "a7ab89233f4c4e3f96d45d563c987cdd",
            "c8a6d087c2eb45d1b58376868a7bdf2a",
            "1d23a18582ef4b4abb3eda3c97e7bfcc",
            "563c529059554225b0e34bea4ff021a5",
            "420d2a458c5d4d99b4f1a158d9ccdd9a",
            "cbf4c54799a4442bb14efcaea8e362fb",
            "f47e5704f02542b4b296c607274dcb34",
            "54375c0b18a1491a82a97af9f9003e7c",
            "34929c73d7c44e58846ac6995cadb244",
            "21e4e877f19e4b43b17728ee36e882a3"
          ]
        },
        "outputId": "a637e705-098e-416a-9d4d-757e7cd8bcb1"
      },
      "execution_count": 3,
      "outputs": [
        {
          "output_type": "stream",
          "name": "stdout",
          "text": [
            "\u001b[2K     \u001b[90m━━━━━━━━━━━━━━━━━━━━━━━━━━━━━━━━━━━━━━━━\u001b[0m \u001b[32m61.0/61.0 kB\u001b[0m \u001b[31m4.3 MB/s\u001b[0m eta \u001b[36m0:00:00\u001b[0m\n",
            "\u001b[2K   \u001b[90m━━━━━━━━━━━━━━━━━━━━━━━━━━━━━━━━━━━━━━━━\u001b[0m \u001b[32m363.4/363.4 MB\u001b[0m \u001b[31m1.4 MB/s\u001b[0m eta \u001b[36m0:00:00\u001b[0m\n",
            "\u001b[2K   \u001b[90m━━━━━━━━━━━━━━━━━━━━━━━━━━━━━━━━━━━━━━━━\u001b[0m \u001b[32m13.8/13.8 MB\u001b[0m \u001b[31m111.2 MB/s\u001b[0m eta \u001b[36m0:00:00\u001b[0m\n",
            "\u001b[2K   \u001b[90m━━━━━━━━━━━━━━━━━━━━━━━━━━━━━━━━━━━━━━━━\u001b[0m \u001b[32m24.6/24.6 MB\u001b[0m \u001b[31m94.5 MB/s\u001b[0m eta \u001b[36m0:00:00\u001b[0m\n",
            "\u001b[2K   \u001b[90m━━━━━━━━━━━━━━━━━━━━━━━━━━━━━━━━━━━━━━━━\u001b[0m \u001b[32m883.7/883.7 kB\u001b[0m \u001b[31m57.6 MB/s\u001b[0m eta \u001b[36m0:00:00\u001b[0m\n",
            "\u001b[2K   \u001b[90m━━━━━━━━━━━━━━━━━━━━━━━━━━━━━━━━━━━━━━━━\u001b[0m \u001b[32m664.8/664.8 MB\u001b[0m \u001b[31m1.4 MB/s\u001b[0m eta \u001b[36m0:00:00\u001b[0m\n",
            "\u001b[2K   \u001b[90m━━━━━━━━━━━━━━━━━━━━━━━━━━━━━━━━━━━━━━━━\u001b[0m \u001b[32m211.5/211.5 MB\u001b[0m \u001b[31m5.4 MB/s\u001b[0m eta \u001b[36m0:00:00\u001b[0m\n",
            "\u001b[2K   \u001b[90m━━━━━━━━━━━━━━━━━━━━━━━━━━━━━━━━━━━━━━━━\u001b[0m \u001b[32m56.3/56.3 MB\u001b[0m \u001b[31m12.6 MB/s\u001b[0m eta \u001b[36m0:00:00\u001b[0m\n",
            "\u001b[2K   \u001b[90m━━━━━━━━━━━━━━━━━━━━━━━━━━━━━━━━━━━━━━━━\u001b[0m \u001b[32m127.9/127.9 MB\u001b[0m \u001b[31m7.5 MB/s\u001b[0m eta \u001b[36m0:00:00\u001b[0m\n",
            "\u001b[2K   \u001b[90m━━━━━━━━━━━━━━━━━━━━━━━━━━━━━━━━━━━━━━━━\u001b[0m \u001b[32m207.5/207.5 MB\u001b[0m \u001b[31m5.9 MB/s\u001b[0m eta \u001b[36m0:00:00\u001b[0m\n",
            "\u001b[2K   \u001b[90m━━━━━━━━━━━━━━━━━━━━━━━━━━━━━━━━━━━━━━━━\u001b[0m \u001b[32m21.1/21.1 MB\u001b[0m \u001b[31m84.6 MB/s\u001b[0m eta \u001b[36m0:00:00\u001b[0m\n",
            "\u001b[2K   \u001b[90m━━━━━━━━━━━━━━━━━━━━━━━━━━━━━━━━━━━━━━━━\u001b[0m \u001b[32m1.9/1.9 MB\u001b[0m \u001b[31m73.9 MB/s\u001b[0m eta \u001b[36m0:00:00\u001b[0m\n",
            "\u001b[?25h"
          ]
        },
        {
          "output_type": "display_data",
          "data": {
            "text/plain": [
              "  0%|          | 0.00/107M [00:00<?, ?B/s]"
            ],
            "application/vnd.jupyter.widget-view+json": {
              "version_major": 2,
              "version_minor": 0,
              "model_id": "e9f7c7bf59c2451ca8f86c3ae0aee2db"
            }
          },
          "metadata": {}
        },
        {
          "output_type": "stream",
          "name": "stderr",
          "text": [
            "Processing /content/drive/MyDrive/Comys_Hackathon52/Task_B/train: 100%|██████████| 877/877 [28:02<00:00,  1.92s/it]\n"
          ]
        },
        {
          "output_type": "stream",
          "name": "stdout",
          "text": [
            "Saved results to /content/train_verification_results.csv\n"
          ]
        },
        {
          "output_type": "stream",
          "name": "stderr",
          "text": [
            "Processing /content/drive/MyDrive/Comys_Hackathon52/Task_B/val: 100%|██████████| 250/250 [05:54<00:00,  1.42s/it]"
          ]
        },
        {
          "output_type": "stream",
          "name": "stdout",
          "text": [
            "Saved results to /content/val_verification_results.csv\n",
            "\n",
            " Best Threshold: 0.35 → F1: 0.9929\n",
            "\n",
            " Evaluation on Validation Set:\n",
            "Accuracy : 0.9886\n",
            "Precision: 1.0000\n",
            "Recall   : 0.9859\n",
            "F1-Score : 0.9929\n"
          ]
        },
        {
          "output_type": "stream",
          "name": "stderr",
          "text": [
            "\n"
          ]
        }
      ]
    },
    {
      "cell_type": "code",
      "source": [
        "torch.save(model.state_dict(), \"task_A_saved_model.pth\")\n"
      ],
      "metadata": {
        "colab": {
          "base_uri": "https://localhost:8080/",
          "height": 141
        },
        "id": "RuSzGJl3_ydo",
        "outputId": "d7f0fa47-e8ea-4e1f-ae59-6e5f4b643795"
      },
      "execution_count": 2,
      "outputs": [
        {
          "output_type": "error",
          "ename": "NameError",
          "evalue": "name 'torch' is not defined",
          "traceback": [
            "\u001b[0;31m---------------------------------------------------------------------------\u001b[0m",
            "\u001b[0;31mNameError\u001b[0m                                 Traceback (most recent call last)",
            "\u001b[0;32m/tmp/ipython-input-2-562298343.py\u001b[0m in \u001b[0;36m<cell line: 0>\u001b[0;34m()\u001b[0m\n\u001b[0;32m----> 1\u001b[0;31m \u001b[0mtorch\u001b[0m\u001b[0;34m.\u001b[0m\u001b[0msave\u001b[0m\u001b[0;34m(\u001b[0m\u001b[0mmodel\u001b[0m\u001b[0;34m.\u001b[0m\u001b[0mstate_dict\u001b[0m\u001b[0;34m(\u001b[0m\u001b[0;34m)\u001b[0m\u001b[0;34m,\u001b[0m \u001b[0;34m\"task_A_saved_model.pth\"\u001b[0m\u001b[0;34m)\u001b[0m\u001b[0;34m\u001b[0m\u001b[0;34m\u001b[0m\u001b[0m\n\u001b[0m",
            "\u001b[0;31mNameError\u001b[0m: name 'torch' is not defined"
          ]
        }
      ]
    }
  ],
  "metadata": {
    "colab": {
      "provenance": [],
      "gpuType": "T4"
    },
    "kernelspec": {
      "display_name": "Python 3",
      "name": "python3"
    },
    "language_info": {
      "name": "python"
    },
    "accelerator": "GPU",
    "widgets": {
      "application/vnd.jupyter.widget-state+json": {
        "e9f7c7bf59c2451ca8f86c3ae0aee2db": {
          "model_module": "@jupyter-widgets/controls",
          "model_name": "HBoxModel",
          "model_module_version": "1.5.0",
          "state": {
            "_dom_classes": [],
            "_model_module": "@jupyter-widgets/controls",
            "_model_module_version": "1.5.0",
            "_model_name": "HBoxModel",
            "_view_count": null,
            "_view_module": "@jupyter-widgets/controls",
            "_view_module_version": "1.5.0",
            "_view_name": "HBoxView",
            "box_style": "",
            "children": [
              "IPY_MODEL_a7ab89233f4c4e3f96d45d563c987cdd",
              "IPY_MODEL_c8a6d087c2eb45d1b58376868a7bdf2a",
              "IPY_MODEL_1d23a18582ef4b4abb3eda3c97e7bfcc"
            ],
            "layout": "IPY_MODEL_563c529059554225b0e34bea4ff021a5"
          }
        },
        "a7ab89233f4c4e3f96d45d563c987cdd": {
          "model_module": "@jupyter-widgets/controls",
          "model_name": "HTMLModel",
          "model_module_version": "1.5.0",
          "state": {
            "_dom_classes": [],
            "_model_module": "@jupyter-widgets/controls",
            "_model_module_version": "1.5.0",
            "_model_name": "HTMLModel",
            "_view_count": null,
            "_view_module": "@jupyter-widgets/controls",
            "_view_module_version": "1.5.0",
            "_view_name": "HTMLView",
            "description": "",
            "description_tooltip": null,
            "layout": "IPY_MODEL_420d2a458c5d4d99b4f1a158d9ccdd9a",
            "placeholder": "​",
            "style": "IPY_MODEL_cbf4c54799a4442bb14efcaea8e362fb",
            "value": "100%"
          }
        },
        "c8a6d087c2eb45d1b58376868a7bdf2a": {
          "model_module": "@jupyter-widgets/controls",
          "model_name": "FloatProgressModel",
          "model_module_version": "1.5.0",
          "state": {
            "_dom_classes": [],
            "_model_module": "@jupyter-widgets/controls",
            "_model_module_version": "1.5.0",
            "_model_name": "FloatProgressModel",
            "_view_count": null,
            "_view_module": "@jupyter-widgets/controls",
            "_view_module_version": "1.5.0",
            "_view_name": "ProgressView",
            "bar_style": "success",
            "description": "",
            "description_tooltip": null,
            "layout": "IPY_MODEL_f47e5704f02542b4b296c607274dcb34",
            "max": 111898327,
            "min": 0,
            "orientation": "horizontal",
            "style": "IPY_MODEL_54375c0b18a1491a82a97af9f9003e7c",
            "value": 111898327
          }
        },
        "1d23a18582ef4b4abb3eda3c97e7bfcc": {
          "model_module": "@jupyter-widgets/controls",
          "model_name": "HTMLModel",
          "model_module_version": "1.5.0",
          "state": {
            "_dom_classes": [],
            "_model_module": "@jupyter-widgets/controls",
            "_model_module_version": "1.5.0",
            "_model_name": "HTMLModel",
            "_view_count": null,
            "_view_module": "@jupyter-widgets/controls",
            "_view_module_version": "1.5.0",
            "_view_name": "HTMLView",
            "description": "",
            "description_tooltip": null,
            "layout": "IPY_MODEL_34929c73d7c44e58846ac6995cadb244",
            "placeholder": "​",
            "style": "IPY_MODEL_21e4e877f19e4b43b17728ee36e882a3",
            "value": " 107M/107M [00:00&lt;00:00, 212MB/s]"
          }
        },
        "563c529059554225b0e34bea4ff021a5": {
          "model_module": "@jupyter-widgets/base",
          "model_name": "LayoutModel",
          "model_module_version": "1.2.0",
          "state": {
            "_model_module": "@jupyter-widgets/base",
            "_model_module_version": "1.2.0",
            "_model_name": "LayoutModel",
            "_view_count": null,
            "_view_module": "@jupyter-widgets/base",
            "_view_module_version": "1.2.0",
            "_view_name": "LayoutView",
            "align_content": null,
            "align_items": null,
            "align_self": null,
            "border": null,
            "bottom": null,
            "display": null,
            "flex": null,
            "flex_flow": null,
            "grid_area": null,
            "grid_auto_columns": null,
            "grid_auto_flow": null,
            "grid_auto_rows": null,
            "grid_column": null,
            "grid_gap": null,
            "grid_row": null,
            "grid_template_areas": null,
            "grid_template_columns": null,
            "grid_template_rows": null,
            "height": null,
            "justify_content": null,
            "justify_items": null,
            "left": null,
            "margin": null,
            "max_height": null,
            "max_width": null,
            "min_height": null,
            "min_width": null,
            "object_fit": null,
            "object_position": null,
            "order": null,
            "overflow": null,
            "overflow_x": null,
            "overflow_y": null,
            "padding": null,
            "right": null,
            "top": null,
            "visibility": null,
            "width": null
          }
        },
        "420d2a458c5d4d99b4f1a158d9ccdd9a": {
          "model_module": "@jupyter-widgets/base",
          "model_name": "LayoutModel",
          "model_module_version": "1.2.0",
          "state": {
            "_model_module": "@jupyter-widgets/base",
            "_model_module_version": "1.2.0",
            "_model_name": "LayoutModel",
            "_view_count": null,
            "_view_module": "@jupyter-widgets/base",
            "_view_module_version": "1.2.0",
            "_view_name": "LayoutView",
            "align_content": null,
            "align_items": null,
            "align_self": null,
            "border": null,
            "bottom": null,
            "display": null,
            "flex": null,
            "flex_flow": null,
            "grid_area": null,
            "grid_auto_columns": null,
            "grid_auto_flow": null,
            "grid_auto_rows": null,
            "grid_column": null,
            "grid_gap": null,
            "grid_row": null,
            "grid_template_areas": null,
            "grid_template_columns": null,
            "grid_template_rows": null,
            "height": null,
            "justify_content": null,
            "justify_items": null,
            "left": null,
            "margin": null,
            "max_height": null,
            "max_width": null,
            "min_height": null,
            "min_width": null,
            "object_fit": null,
            "object_position": null,
            "order": null,
            "overflow": null,
            "overflow_x": null,
            "overflow_y": null,
            "padding": null,
            "right": null,
            "top": null,
            "visibility": null,
            "width": null
          }
        },
        "cbf4c54799a4442bb14efcaea8e362fb": {
          "model_module": "@jupyter-widgets/controls",
          "model_name": "DescriptionStyleModel",
          "model_module_version": "1.5.0",
          "state": {
            "_model_module": "@jupyter-widgets/controls",
            "_model_module_version": "1.5.0",
            "_model_name": "DescriptionStyleModel",
            "_view_count": null,
            "_view_module": "@jupyter-widgets/base",
            "_view_module_version": "1.2.0",
            "_view_name": "StyleView",
            "description_width": ""
          }
        },
        "f47e5704f02542b4b296c607274dcb34": {
          "model_module": "@jupyter-widgets/base",
          "model_name": "LayoutModel",
          "model_module_version": "1.2.0",
          "state": {
            "_model_module": "@jupyter-widgets/base",
            "_model_module_version": "1.2.0",
            "_model_name": "LayoutModel",
            "_view_count": null,
            "_view_module": "@jupyter-widgets/base",
            "_view_module_version": "1.2.0",
            "_view_name": "LayoutView",
            "align_content": null,
            "align_items": null,
            "align_self": null,
            "border": null,
            "bottom": null,
            "display": null,
            "flex": null,
            "flex_flow": null,
            "grid_area": null,
            "grid_auto_columns": null,
            "grid_auto_flow": null,
            "grid_auto_rows": null,
            "grid_column": null,
            "grid_gap": null,
            "grid_row": null,
            "grid_template_areas": null,
            "grid_template_columns": null,
            "grid_template_rows": null,
            "height": null,
            "justify_content": null,
            "justify_items": null,
            "left": null,
            "margin": null,
            "max_height": null,
            "max_width": null,
            "min_height": null,
            "min_width": null,
            "object_fit": null,
            "object_position": null,
            "order": null,
            "overflow": null,
            "overflow_x": null,
            "overflow_y": null,
            "padding": null,
            "right": null,
            "top": null,
            "visibility": null,
            "width": null
          }
        },
        "54375c0b18a1491a82a97af9f9003e7c": {
          "model_module": "@jupyter-widgets/controls",
          "model_name": "ProgressStyleModel",
          "model_module_version": "1.5.0",
          "state": {
            "_model_module": "@jupyter-widgets/controls",
            "_model_module_version": "1.5.0",
            "_model_name": "ProgressStyleModel",
            "_view_count": null,
            "_view_module": "@jupyter-widgets/base",
            "_view_module_version": "1.2.0",
            "_view_name": "StyleView",
            "bar_color": null,
            "description_width": ""
          }
        },
        "34929c73d7c44e58846ac6995cadb244": {
          "model_module": "@jupyter-widgets/base",
          "model_name": "LayoutModel",
          "model_module_version": "1.2.0",
          "state": {
            "_model_module": "@jupyter-widgets/base",
            "_model_module_version": "1.2.0",
            "_model_name": "LayoutModel",
            "_view_count": null,
            "_view_module": "@jupyter-widgets/base",
            "_view_module_version": "1.2.0",
            "_view_name": "LayoutView",
            "align_content": null,
            "align_items": null,
            "align_self": null,
            "border": null,
            "bottom": null,
            "display": null,
            "flex": null,
            "flex_flow": null,
            "grid_area": null,
            "grid_auto_columns": null,
            "grid_auto_flow": null,
            "grid_auto_rows": null,
            "grid_column": null,
            "grid_gap": null,
            "grid_row": null,
            "grid_template_areas": null,
            "grid_template_columns": null,
            "grid_template_rows": null,
            "height": null,
            "justify_content": null,
            "justify_items": null,
            "left": null,
            "margin": null,
            "max_height": null,
            "max_width": null,
            "min_height": null,
            "min_width": null,
            "object_fit": null,
            "object_position": null,
            "order": null,
            "overflow": null,
            "overflow_x": null,
            "overflow_y": null,
            "padding": null,
            "right": null,
            "top": null,
            "visibility": null,
            "width": null
          }
        },
        "21e4e877f19e4b43b17728ee36e882a3": {
          "model_module": "@jupyter-widgets/controls",
          "model_name": "DescriptionStyleModel",
          "model_module_version": "1.5.0",
          "state": {
            "_model_module": "@jupyter-widgets/controls",
            "_model_module_version": "1.5.0",
            "_model_name": "DescriptionStyleModel",
            "_view_count": null,
            "_view_module": "@jupyter-widgets/base",
            "_view_module_version": "1.2.0",
            "_view_name": "StyleView",
            "description_width": ""
          }
        }
      }
    }
  },
  "nbformat": 4,
  "nbformat_minor": 0
}