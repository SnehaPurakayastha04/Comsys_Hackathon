{
  "nbformat": 4,
  "nbformat_minor": 0,
  "metadata": {
    "colab": {
      "provenance": []
    },
    "kernelspec": {
      "name": "python3",
      "display_name": "Python 3"
    },
    "language_info": {
      "name": "python"
    }
  },
  "cells": [
    {
      "cell_type": "code",
      "source": [
        "from google.colab import drive\n",
        "drive.mount('/content/drive')"
      ],
      "metadata": {
        "colab": {
          "base_uri": "https://localhost:8080/"
        },
        "id": "Lyr8Tmt083z7",
        "outputId": "c75b8769-95f7-496c-8559-a9dc3f8528eb"
      },
      "execution_count": 3,
      "outputs": [
        {
          "output_type": "stream",
          "name": "stdout",
          "text": [
            "Mounted at /content/drive\n"
          ]
        }
      ]
    },
    {
      "cell_type": "code",
      "execution_count": null,
      "metadata": {
        "colab": {
          "base_uri": "https://localhost:8080/"
        },
        "id": "uq30YI7I8xV5",
        "outputId": "d8e15361-7e09-4866-c3e3-422d1dd21435"
      },
      "outputs": [
        {
          "output_type": "stream",
          "name": "stdout",
          "text": [
            "Class to index mapping: {'female': 0, 'male': 1}\n"
          ]
        }
      ],
      "source": [
        "\n",
        "\n",
        "!pip install torch torchvision matplotlib --quiet\n",
        "\n",
        "# Importing Libraries\n",
        "import os\n",
        "import torch\n",
        "import torchvision\n",
        "import torchvision.transforms as transforms\n",
        "import matplotlib.pyplot as plt\n",
        "import numpy as np\n",
        "from torchvision import datasets, models\n",
        "from torch.utils.data import DataLoader\n",
        "import torch.nn as nn\n",
        "import torch.optim as optim\n",
        "from torchvision.models import ResNet50_Weights\n",
        "\n",
        "# Paths\n",
        "train_dir_a = '/content/drive/MyDrive/Comys_Hackathon5/Task_A/train'\n",
        "val_dir_a = '/content/drive/MyDrive/Comys_Hackathon5/Task_A/val'\n",
        "\n",
        "# Data Augmentation Transforms\n",
        "transform_a_train = transforms.Compose([\n",
        "    transforms.Resize((224, 224)),\n",
        "    transforms.RandomHorizontalFlip(),\n",
        "    transforms.RandomRotation(15),\n",
        "    transforms.ColorJitter(brightness=0.3, contrast=0.3),\n",
        "    transforms.RandomApply([transforms.GaussianBlur(3)], p=0.2),\n",
        "    transforms.ToTensor(),\n",
        "    transforms.Normalize([0.5]*3, [0.5]*3)\n",
        "])\n",
        "\n",
        "transform_a_val = transforms.Compose([\n",
        "    transforms.Resize((224, 224)),\n",
        "    transforms.ToTensor(),\n",
        "    transforms.Normalize([0.5]*3, [0.5]*3)\n",
        "])\n",
        "\n",
        "# Loaded Dataset\n",
        "train_dataset_a = datasets.ImageFolder(root=train_dir_a, transform=transform_a_train)\n",
        "val_dataset_a = datasets.ImageFolder(root=val_dir_a, transform=transform_a_val)\n",
        "\n",
        "train_loader_a = DataLoader(train_dataset_a, batch_size=32, shuffle=True)\n",
        "val_loader_a = DataLoader(val_dataset_a, batch_size=32, shuffle=False)\n",
        "\n",
        "print(\"Class to index mapping:\", train_dataset_a.class_to_idx)\n",
        "\n",
        "# Visualising the Training Batch\n",
        "def imshow(img):\n",
        "    img = img / 2 + 0.5\n",
        "    npimg = img.numpy()\n",
        "    plt.imshow(np.transpose(npimg, (1, 2, 0)))\n",
        "    plt.axis('off')\n",
        "    plt.show()\n",
        "\n",
        "dataiter = iter(train_loader_a)\n",
        "images, labels = next(dataiter)\n",
        "imshow(torchvision.utils.make_grid(images))\n",
        "\n",
        "# Model Setup\n",
        "model = models.resnet50(weights=ResNet50_Weights.DEFAULT)\n",
        "num_features = model.fc.in_features\n",
        "model.fc = nn.Sequential(\n",
        "    nn.Linear(num_features, 256),\n",
        "    nn.ReLU(),\n",
        "    nn.Dropout(0.5),\n",
        "    nn.Linear(256, 2)\n",
        ")\n",
        "\n",
        "device = torch.device('cuda' if torch.cuda.is_available() else 'cpu')\n",
        "model = model.to(device)\n",
        "\n",
        "# Loss & Optimizer\n",
        "criterion = nn.CrossEntropyLoss(label_smoothing=0.1)\n",
        "optimizer = optim.AdamW(model.parameters(), lr=1e-4)\n",
        "scheduler = optim.lr_scheduler.StepLR(optimizer, step_size=5, gamma=0.5)\n",
        "\n",
        "# Training with Early Stopping and Saving the Best Model\n",
        "epochs = 20\n",
        "patience = 4\n",
        "train_losses = []\n",
        "val_accuracies = []\n",
        "best_acc = 0\n",
        "wait = 0\n",
        "\n",
        "for epoch in range(epochs):\n",
        "    model.train()\n",
        "    running_loss = 0.0\n",
        "    for inputs, labels in train_loader_a:\n",
        "        inputs, labels = inputs.to(device), labels.to(device)\n",
        "        optimizer.zero_grad()\n",
        "        outputs = model(inputs)\n",
        "        loss = criterion(outputs, labels)\n",
        "        loss.backward()\n",
        "        optimizer.step()\n",
        "        running_loss += loss.item()\n",
        "\n",
        "    scheduler.step()\n",
        "    train_losses.append(running_loss / len(train_loader_a))\n",
        "\n",
        "    # Final Evaluation\n",
        "    model.eval()\n",
        "    val_loss = 0.0\n",
        "    correct = 0\n",
        "    total = 0\n",
        "    with torch.no_grad():\n",
        "        for inputs, labels in val_loader_a:\n",
        "            inputs, labels = inputs.to(device), labels.to(device)\n",
        "            outputs = model(inputs)\n",
        "            loss = criterion(outputs, labels)\n",
        "            val_loss += loss.item()\n",
        "            _, predicted = torch.max(outputs, 1)\n",
        "            total += labels.size(0)\n",
        "            correct += (predicted == labels).sum().item()\n",
        "\n",
        "    val_acc = 100 * correct / total\n",
        "    val_accuracies.append(val_acc)\n",
        "    print(f\"Epoch {epoch+1}, Loss: {running_loss/len(train_loader_a):.4f}, Val Accuracy: {val_acc:.2f}%, Val Loss: {val_loss/len(val_loader_a):.4f}\")\n",
        "\n",
        "    if val_acc > best_acc:\n",
        "        best_acc = val_acc\n",
        "        wait = 0\n",
        "        torch.save(model.state_dict(), '/content/best_gender_model.pth')\n",
        "    else:\n",
        "        wait += 1\n",
        "        if wait >= patience:\n",
        "            print(\"Early stopping triggered\")\n",
        "            break\n",
        "\n",
        "print(f\"Best Validation Accuracy: {best_acc:.2f}%\")\n",
        "\n",
        "# Plot Accuracy & Loss\n",
        "plt.plot(train_losses, label='Train Loss')\n",
        "plt.plot(val_accuracies, label='Val Accuracy')\n",
        "plt.xlabel('Epoch')\n",
        "plt.ylabel('Value')\n",
        "plt.title('Training Loss & Validation Accuracy')\n",
        "plt.legend()\n",
        "plt.show()"
      ]
    }
  ]
}