{
  "nbformat": 4,
  "nbformat_minor": 0,
  "metadata": {
    "colab": {
      "provenance": []
    },
    "kernelspec": {
      "name": "python3",
      "display_name": "Python 3"
    },
    "language_info": {
      "name": "python"
    }
  },
  "cells": [
    {
      "cell_type": "code",
      "execution_count": null,
      "metadata": {
        "id": "ubX_4vAZU7vv"
      },
      "outputs": [],
      "source": [
        "# ✅ STEP 1: Install & Import\n",
        "!pip install scikit-learn pandas matplotlib seaborn --quiet\n",
        "\n",
        "import pandas as pd\n",
        "import numpy as np\n",
        "import seaborn as sns\n",
        "import matplotlib.pyplot as plt\n",
        "from sklearn.metrics import accuracy_score, precision_score, recall_score, f1_score, confusion_matrix\n",
        "\n",
        "# ✅ STEP 2: Load Validation Results\n",
        "df_val = pd.read_csv('/content/val_verification_results.csv')\n",
        "\n",
        "# ✅ STEP 3: Threshold Tuning\n",
        "y_true = df_val['label'].tolist()\n",
        "best_thresh = 0.5\n",
        "best_f1 = 0\n",
        "\n",
        "for thresh in np.arange(0.3, 0.8, 0.01):\n",
        "    preds = [1 if s >= thresh else 0 for s in df_val['similarity']]\n",
        "    f1 = f1_score(y_true, preds)\n",
        "    if f1 > best_f1:\n",
        "        best_f1 = f1\n",
        "        best_thresh = thresh\n",
        "\n",
        "print(f\"\\n🔍 Best Threshold: {best_thresh:.2f} → F1: {best_f1:.4f}\")\n",
        "\n",
        "# ✅ STEP 4: Final Evaluation\n",
        "y_pred = [1 if s >= best_thresh else 0 for s in df_val['similarity']]\n",
        "acc = accuracy_score(y_true, y_pred)\n",
        "prec = precision_score(y_true, y_pred)\n",
        "rec = recall_score(y_true, y_pred)\n",
        "f1 = f1_score(y_true, y_pred)\n",
        "\n",
        "print(\"\\n📊 Evaluation on Validation Set:\")\n",
        "print(f\"Accuracy : {acc:.4f}\")\n",
        "print(f\"Precision: {prec:.4f}\")\n",
        "print(f\"Recall   : {rec:.4f}\")\n",
        "print(f\"F1-Score : {f1:.4f}\")\n",
        "\n",
        "# ✅ STEP 5: Confusion Matrix\n",
        "cm = confusion_matrix(y_true, y_pred)\n",
        "labels = ['Negative (0)', 'Positive (1)']\n",
        "\n",
        "plt.figure(figsize=(6, 4))\n",
        "sns.heatmap(cm, annot=True, fmt='d', cmap='Blues', xticklabels=labels, yticklabels=labels)\n",
        "plt.xlabel('Predicted')\n",
        "plt.ylabel('True')\n",
        "plt.title('Confusion Matrix')\n",
        "plt.show()\n"
         torch.save(model.state_dict(), 'facenet_vggface2.pth')
      ]
    }
  ]
}
